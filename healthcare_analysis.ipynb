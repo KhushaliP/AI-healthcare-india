{
 "cells": [
  {
   "cell_type": "code",
   "execution_count": 1,
   "id": "b1524a37",
   "metadata": {},
   "outputs": [],
   "source": [
    "import numpy as np\n",
    "import pandas as pd\n",
    "import matplotlib.pyplot as plt\n",
    "import seaborn as sns"
   ]
  },
  {
   "cell_type": "markdown",
   "id": "1bebe9ac",
   "metadata": {},
   "source": [
    "# What does the distribution of AI healthcare startups look like across India?"
   ]
  },
  {
   "cell_type": "code",
   "execution_count": 2,
   "id": "568fdaeb",
   "metadata": {},
   "outputs": [],
   "source": [
    "df = pd.read_excel('cleaned_healthcare_data.xlsx')\n"
   ]
  },
  {
   "cell_type": "code",
   "execution_count": 3,
   "id": "3cb3bf70",
   "metadata": {},
   "outputs": [
    {
     "data": {
      "text/html": [
       "<div>\n",
       "<style scoped>\n",
       "    .dataframe tbody tr th:only-of-type {\n",
       "        vertical-align: middle;\n",
       "    }\n",
       "\n",
       "    .dataframe tbody tr th {\n",
       "        vertical-align: top;\n",
       "    }\n",
       "\n",
       "    .dataframe thead th {\n",
       "        text-align: right;\n",
       "    }\n",
       "</style>\n",
       "<table border=\"1\" class=\"dataframe\">\n",
       "  <thead>\n",
       "    <tr style=\"text-align: right;\">\n",
       "      <th></th>\n",
       "      <th>serial_no</th>\n",
       "      <th>company</th>\n",
       "      <th>overview</th>\n",
       "      <th>funding</th>\n",
       "      <th>city</th>\n",
       "      <th>state</th>\n",
       "      <th>year_founded</th>\n",
       "      <th>stage</th>\n",
       "      <th>employee_count</th>\n",
       "      <th>valuation</th>\n",
       "      <th>annual_revenue</th>\n",
       "      <th>business_model</th>\n",
       "      <th>description</th>\n",
       "      <th>website</th>\n",
       "    </tr>\n",
       "  </thead>\n",
       "  <tbody>\n",
       "    <tr>\n",
       "      <th>276</th>\n",
       "      <td>277</td>\n",
       "      <td>Clinician</td>\n",
       "      <td>Provider of AI based differential diagnosis sy...</td>\n",
       "      <td>NaN</td>\n",
       "      <td>India</td>\n",
       "      <td>NaN</td>\n",
       "      <td>2018.0</td>\n",
       "      <td>Unfunded</td>\n",
       "      <td>NaN</td>\n",
       "      <td>NaN</td>\n",
       "      <td>6107.31</td>\n",
       "      <td>Healthcare IT &gt; Provider &gt; Clinical Operations...</td>\n",
       "      <td>Clinician AI is an AI-based clinical decision ...</td>\n",
       "      <td>https://clinicianai.com</td>\n",
       "    </tr>\n",
       "    <tr>\n",
       "      <th>397</th>\n",
       "      <td>398</td>\n",
       "      <td>Zodiapp</td>\n",
       "      <td>AI based platform offering stress and anxiety ...</td>\n",
       "      <td>NaN</td>\n",
       "      <td>India</td>\n",
       "      <td>NaN</td>\n",
       "      <td>2023.0</td>\n",
       "      <td>Unfunded</td>\n",
       "      <td>NaN</td>\n",
       "      <td>NaN</td>\n",
       "      <td>NaN</td>\n",
       "      <td>Disease Self Management &gt; Neurological Disorde...</td>\n",
       "      <td>AI based platform offering stress and anxiety ...</td>\n",
       "      <td>https://zodiapp.in</td>\n",
       "    </tr>\n",
       "    <tr>\n",
       "      <th>446</th>\n",
       "      <td>447</td>\n",
       "      <td>Mageia Analytica</td>\n",
       "      <td>AI-based tumor detection tool for healthcare p...</td>\n",
       "      <td>NaN</td>\n",
       "      <td>India</td>\n",
       "      <td>NaN</td>\n",
       "      <td>2019.0</td>\n",
       "      <td>Deadpooled</td>\n",
       "      <td>NaN</td>\n",
       "      <td>NaN</td>\n",
       "      <td>NaN</td>\n",
       "      <td>Healthcare IT &gt; Provider &gt; Clinical Operations...</td>\n",
       "      <td>AI-based tumor detection tool for healthcare p...</td>\n",
       "      <td>http://mageia-analytica.com</td>\n",
       "    </tr>\n",
       "    <tr>\n",
       "      <th>493</th>\n",
       "      <td>494</td>\n",
       "      <td>ApnaMD</td>\n",
       "      <td>AI-powered platform for the diagnosis of symptoms</td>\n",
       "      <td>NaN</td>\n",
       "      <td>India</td>\n",
       "      <td>NaN</td>\n",
       "      <td>2022.0</td>\n",
       "      <td>Unfunded</td>\n",
       "      <td>NaN</td>\n",
       "      <td>NaN</td>\n",
       "      <td>NaN</td>\n",
       "      <td>Disease Self Management &gt; Symptom Checkers</td>\n",
       "      <td>NaN</td>\n",
       "      <td>http://apnamd.ai</td>\n",
       "    </tr>\n",
       "    <tr>\n",
       "      <th>626</th>\n",
       "      <td>627</td>\n",
       "      <td>LeafNet</td>\n",
       "      <td>AI-powered marketing platform for cannabis ind...</td>\n",
       "      <td>NaN</td>\n",
       "      <td>India</td>\n",
       "      <td>NaN</td>\n",
       "      <td>2023.0</td>\n",
       "      <td>Unfunded</td>\n",
       "      <td>NaN</td>\n",
       "      <td>NaN</td>\n",
       "      <td>NaN</td>\n",
       "      <td>Cannabis HealthTech &gt; Cannabis Business IT &gt; M...</td>\n",
       "      <td>AI-powered marketing platform for cannabis ind...</td>\n",
       "      <td>https://leafnet.in</td>\n",
       "    </tr>\n",
       "    <tr>\n",
       "      <th>634</th>\n",
       "      <td>635</td>\n",
       "      <td>MedweiSer Health</td>\n",
       "      <td>Provider of AI-enabled app for checking the sy...</td>\n",
       "      <td>NaN</td>\n",
       "      <td>India</td>\n",
       "      <td>NaN</td>\n",
       "      <td>2015.0</td>\n",
       "      <td>Unfunded</td>\n",
       "      <td>NaN</td>\n",
       "      <td>NaN</td>\n",
       "      <td>NaN</td>\n",
       "      <td>Disease Self Management &gt; Symptom Checkers &gt; C...</td>\n",
       "      <td>Provider of AI-enabled app for checking the sy...</td>\n",
       "      <td>http://www.medweiser.com/index.php</td>\n",
       "    </tr>\n",
       "    <tr>\n",
       "      <th>649</th>\n",
       "      <td>650</td>\n",
       "      <td>THEBABYBIRTH.COM</td>\n",
       "      <td>AI powered chatbot platform offering expert ad...</td>\n",
       "      <td>NaN</td>\n",
       "      <td>India</td>\n",
       "      <td>NaN</td>\n",
       "      <td>2020.0</td>\n",
       "      <td>Unfunded</td>\n",
       "      <td>NaN</td>\n",
       "      <td>NaN</td>\n",
       "      <td>NaN</td>\n",
       "      <td>Online Health Information &gt; Internet First Med...</td>\n",
       "      <td>AI powered baby health chatbot that offers exp...</td>\n",
       "      <td>https://thebabybirth.com</td>\n",
       "    </tr>\n",
       "    <tr>\n",
       "      <th>665</th>\n",
       "      <td>666</td>\n",
       "      <td>Boltt</td>\n",
       "      <td>Developer of an app for reward-based AI-enable...</td>\n",
       "      <td>NaN</td>\n",
       "      <td>India</td>\n",
       "      <td>NaN</td>\n",
       "      <td>NaN</td>\n",
       "      <td>Deadpooled</td>\n",
       "      <td>NaN</td>\n",
       "      <td>NaN</td>\n",
       "      <td>NaN</td>\n",
       "      <td>Fitness &amp; Wellness Tech &gt; Physical Fitness &gt; T...</td>\n",
       "      <td>Boltt has developed an app for reward-based AI...</td>\n",
       "      <td>http://boltt.co.in</td>\n",
       "    </tr>\n",
       "  </tbody>\n",
       "</table>\n",
       "</div>"
      ],
      "text/plain": [
       "     serial_no           company  \\\n",
       "276        277         Clinician   \n",
       "397        398           Zodiapp   \n",
       "446        447  Mageia Analytica   \n",
       "493        494            ApnaMD   \n",
       "626        627           LeafNet   \n",
       "634        635  MedweiSer Health   \n",
       "649        650  THEBABYBIRTH.COM   \n",
       "665        666             Boltt   \n",
       "\n",
       "                                              overview  funding   city state  \\\n",
       "276  Provider of AI based differential diagnosis sy...      NaN  India   NaN   \n",
       "397  AI based platform offering stress and anxiety ...      NaN  India   NaN   \n",
       "446  AI-based tumor detection tool for healthcare p...      NaN  India   NaN   \n",
       "493  AI-powered platform for the diagnosis of symptoms      NaN  India   NaN   \n",
       "626  AI-powered marketing platform for cannabis ind...      NaN  India   NaN   \n",
       "634  Provider of AI-enabled app for checking the sy...      NaN  India   NaN   \n",
       "649  AI powered chatbot platform offering expert ad...      NaN  India   NaN   \n",
       "665  Developer of an app for reward-based AI-enable...      NaN  India   NaN   \n",
       "\n",
       "     year_founded       stage  employee_count  valuation  annual_revenue  \\\n",
       "276        2018.0    Unfunded             NaN        NaN         6107.31   \n",
       "397        2023.0    Unfunded             NaN        NaN             NaN   \n",
       "446        2019.0  Deadpooled             NaN        NaN             NaN   \n",
       "493        2022.0    Unfunded             NaN        NaN             NaN   \n",
       "626        2023.0    Unfunded             NaN        NaN             NaN   \n",
       "634        2015.0    Unfunded             NaN        NaN             NaN   \n",
       "649        2020.0    Unfunded             NaN        NaN             NaN   \n",
       "665           NaN  Deadpooled             NaN        NaN             NaN   \n",
       "\n",
       "                                        business_model  \\\n",
       "276  Healthcare IT > Provider > Clinical Operations...   \n",
       "397  Disease Self Management > Neurological Disorde...   \n",
       "446  Healthcare IT > Provider > Clinical Operations...   \n",
       "493         Disease Self Management > Symptom Checkers   \n",
       "626  Cannabis HealthTech > Cannabis Business IT > M...   \n",
       "634  Disease Self Management > Symptom Checkers > C...   \n",
       "649  Online Health Information > Internet First Med...   \n",
       "665  Fitness & Wellness Tech > Physical Fitness > T...   \n",
       "\n",
       "                                           description  \\\n",
       "276  Clinician AI is an AI-based clinical decision ...   \n",
       "397  AI based platform offering stress and anxiety ...   \n",
       "446  AI-based tumor detection tool for healthcare p...   \n",
       "493                                                NaN   \n",
       "626  AI-powered marketing platform for cannabis ind...   \n",
       "634  Provider of AI-enabled app for checking the sy...   \n",
       "649  AI powered baby health chatbot that offers exp...   \n",
       "665  Boltt has developed an app for reward-based AI...   \n",
       "\n",
       "                                website  \n",
       "276             https://clinicianai.com  \n",
       "397                  https://zodiapp.in  \n",
       "446         http://mageia-analytica.com  \n",
       "493                    http://apnamd.ai  \n",
       "626                  https://leafnet.in  \n",
       "634  http://www.medweiser.com/index.php  \n",
       "649            https://thebabybirth.com  \n",
       "665                  http://boltt.co.in  "
      ]
     },
     "execution_count": 3,
     "metadata": {},
     "output_type": "execute_result"
    }
   ],
   "source": [
    "df[df['state'].isnull()]"
   ]
  },
  {
   "cell_type": "code",
   "execution_count": 4,
   "id": "2f760571",
   "metadata": {},
   "outputs": [],
   "source": [
    "df = df.dropna(subset=['state'])"
   ]
  },
  {
   "cell_type": "code",
   "execution_count": 5,
   "id": "da4d4792",
   "metadata": {},
   "outputs": [],
   "source": [
    "\n",
    "#df[df['city'] == 'India']\n",
    "df.drop(df[df['city'] == 'India'].index, inplace=True)\n"
   ]
  },
  {
   "cell_type": "markdown",
   "id": "8356f201",
   "metadata": {},
   "source": [
    "## Analysing top states/cities"
   ]
  },
  {
   "cell_type": "markdown",
   "id": "fe8d4698",
   "metadata": {},
   "source": [
    "Let's analyse states first. I have already cleaned the data containing multiple values of states, to bring it to a single value relevant for our case. Example: \"Maharashtra, New York\" to \"Maharashtra\""
   ]
  },
  {
   "cell_type": "code",
   "execution_count": 6,
   "id": "35bcfbcf",
   "metadata": {
    "scrolled": true
   },
   "outputs": [
    {
     "name": "stdout",
     "output_type": "stream",
     "text": [
      "                            state  company_count\n",
      "0                       Karnataka            191\n",
      "1                     Maharashtra            102\n",
      "2                             NCT             72\n",
      "3                       Telangana             58\n",
      "4                      Tamil Nadu             48\n",
      "5                         Haryana             41\n",
      "6                         Gujarat             24\n",
      "7                     West Bengal             24\n",
      "8                   Uttar Pradesh             22\n",
      "9                       Rajasthan             13\n",
      "10                         Kerala             12\n",
      "11                          Delhi              8\n",
      "12                         Odisha              7\n",
      "13                 Madhya Pradesh              6\n",
      "14  Union Territory Of Chandigarh              5\n",
      "15                 Andhra Pradesh              3\n",
      "16                          Bihar              3\n",
      "17                          Assam              2\n",
      "18               Himachal Pradesh              2\n",
      "19              Jammu and Kashmir              2\n",
      "20                   Chhattisgarh              2\n",
      "21                         Punjab              2\n",
      "22                       Delaware              1\n",
      "23                       New York              1\n",
      "24                       Illinois              1\n",
      "25                     Puducherry              1\n",
      "26                    Pondicherry              1\n",
      "27                        Manipur              1\n",
      "28                    Uttarakhand              1\n",
      "29                     Chandigarh              1\n"
     ]
    }
   ],
   "source": [
    "state_counts = df['state'].value_counts().reset_index()\n",
    "state_counts.columns = ['state', 'company_count']\n",
    "print(state_counts)"
   ]
  },
  {
   "cell_type": "code",
   "execution_count": 7,
   "id": "66e36674",
   "metadata": {},
   "outputs": [],
   "source": [
    "top_states = state_counts.sort_values(by='company_count', ascending=False).head(10)"
   ]
  },
  {
   "cell_type": "code",
   "execution_count": 8,
   "id": "1f6299d0",
   "metadata": {
    "scrolled": true
   },
   "outputs": [
    {
     "data": {
      "image/png": "[encoded data removed]",
      "text/plain": [
       "<Figure size 1000x600 with 1 Axes>"
      ]
     },
     "metadata": {},
     "output_type": "display_data"
    }
   ],
   "source": [
    "sns.set(style=\"whitegrid\")\n",
    "\n",
    "# Create a bar plot\n",
    "plt.figure(figsize=(10, 6))\n",
    "sns.barplot(x='company_count', y='state', data=top_states, palette='viridis')\n",
    "\n",
    "# Set plot title and labels\n",
    "plt.title('Top 10 states by Number of Companies')\n",
    "plt.xlabel('Number of Companies')\n",
    "plt.ylabel('State')\n",
    "\n",
    "# Display the plot\n",
    "plt.show()"
   ]
  },
  {
   "cell_type": "markdown",
   "id": "3da0bc50",
   "metadata": {},
   "source": [
    "Same thing for cities now"
   ]
  },
  {
   "cell_type": "code",
   "execution_count": 9,
   "id": "da282893",
   "metadata": {
    "scrolled": true
   },
   "outputs": [
    {
     "name": "stdout",
     "output_type": "stream",
     "text": [
      "         city  company_count\n",
      "0   Bengaluru            184\n",
      "1       Delhi             71\n",
      "2   Hyderabad             57\n",
      "3      Mumbai             45\n",
      "4        Pune             39\n",
      "..        ...            ...\n",
      "76   Madhapur              1\n",
      "77     Kadapa              1\n",
      "78       Ooty              1\n",
      "79     Imphal              1\n",
      "80    Haryana              1\n",
      "\n",
      "[81 rows x 2 columns]\n"
     ]
    }
   ],
   "source": [
    "city_counts = df['city'].value_counts().reset_index()\n",
    "city_counts.columns = ['city', 'company_count']\n",
    "print(city_counts)"
   ]
  },
  {
   "cell_type": "code",
   "execution_count": 10,
   "id": "1725e47d",
   "metadata": {
    "scrolled": true
   },
   "outputs": [
    {
     "data": {
      "image/png": "[encoded data removed]",
      "text/plain": [
       "<Figure size 1000x600 with 1 Axes>"
      ]
     },
     "metadata": {},
     "output_type": "display_data"
    }
   ],
   "source": [
    "top_cities = city_counts.sort_values(by='company_count', ascending=False).head(10)\n",
    "\n",
    "sns.set(style=\"whitegrid\")\n",
    "\n",
    "# Create a bar plot\n",
    "plt.figure(figsize=(10, 6))\n",
    "sns.barplot(x='company_count', y='city', data=top_cities, palette='rocket')\n",
    "\n",
    "# Set plot title and labels\n",
    "plt.title('Top 10 cities by Number of Companies')\n",
    "plt.xlabel('Number of Companies')\n",
    "plt.ylabel('City')\n",
    "\n",
    "# Display the plot\n",
    "plt.show()"
   ]
  },
  {
   "cell_type": "markdown",
   "id": "271c491d",
   "metadata": {},
   "source": [
    "A map showing distribution of startups across India"
   ]
  },
  {
   "cell_type": "code",
   "execution_count": 11,
   "id": "5c685624",
   "metadata": {},
   "outputs": [],
   "source": [
    "#geocoding\n",
    "#! pip install geopy\n",
    "from geopy import geocoders\n",
    "from geopy.geocoders import Nominatim\n",
    "from geopy.exc import GeocoderTimedOut\n",
    "import time\n",
    "\n"
   ]
  },
  {
   "cell_type": "code",
   "execution_count": 12,
   "id": "b154c326",
   "metadata": {},
   "outputs": [],
   "source": [
    "#geolocator = Nominatim(user_agent=\"geoapiExercises\", timeout = 10)\n",
    "geocoder = geocoders.Nominatim(user_agent = 'india_startup_mapping')\n",
    "def get_lat_long(city):\n",
    "    try:\n",
    "        location = geocoder.geocode(city)\n",
    "        if location:\n",
    "            return (location.latitude, location.longitude)\n",
    "        else:\n",
    "            return (None, None)\n",
    "    except GeocoderTimedOut:\n",
    "        return get_lat_long(city)\n",
    "    except Exception as e:\n",
    "        print(f\"Error geocoding {city}: {e}\")\n",
    "        return (None, None)\n"
   ]
  },
  {
   "cell_type": "code",
   "execution_count": 13,
   "id": "10d4277a",
   "metadata": {},
   "outputs": [
    {
     "name": "stdout",
     "output_type": "stream",
     "text": [
      "Error geocoding Thiruvananthapuram: HTTPSConnectionPool(host='nominatim.openstreetmap.org', port=443): Max retries exceeded with url: /search?q=Thiruvananthapuram&format=json&limit=1 (Caused by ReadTimeoutError(\"HTTPSConnectionPool(host='nominatim.openstreetmap.org', port=443): Read timed out. (read timeout=1)\"))\n"
     ]
    }
   ],
   "source": [
    "coordinates = []\n",
    "\n",
    "# Iterate through each city and get coordinates\n",
    "for city in city_counts['city']:\n",
    "    coordinates.append(get_lat_long(city))\n",
    "    time.sleep(2)  # Sleep for 1 second to respect Nominatim's rate limit\n",
    "\n",
    "# Add coordinates to DataFrame\n",
    "city_counts['coordinates'] = coordinates\n",
    "city_counts[['latitude', 'longitude']] = pd.DataFrame(city_counts['coordinates'].tolist(), index=city_counts.index)\n",
    "city_counts.drop('coordinates', axis=1, inplace=True)\n",
    "#city_counts[['latitude', 'longitude']] = pd.DataFrame(city_counts['coordinates'].tolist(), index=city_counts.index)\n",
    "#city_counts.drop('coordinates', axis=1, inplace=True)"
   ]
  },
  {
   "cell_type": "code",
   "execution_count": 14,
   "id": "1c48559e",
   "metadata": {},
   "outputs": [
    {
     "data": {
      "text/html": [
       "<div>\n",
       "<style scoped>\n",
       "    .dataframe tbody tr th:only-of-type {\n",
       "        vertical-align: middle;\n",
       "    }\n",
       "\n",
       "    .dataframe tbody tr th {\n",
       "        vertical-align: top;\n",
       "    }\n",
       "\n",
       "    .dataframe thead th {\n",
       "        text-align: right;\n",
       "    }\n",
       "</style>\n",
       "<table border=\"1\" class=\"dataframe\">\n",
       "  <thead>\n",
       "    <tr style=\"text-align: right;\">\n",
       "      <th></th>\n",
       "      <th>city</th>\n",
       "      <th>company_count</th>\n",
       "      <th>latitude</th>\n",
       "      <th>longitude</th>\n",
       "    </tr>\n",
       "  </thead>\n",
       "  <tbody>\n",
       "    <tr>\n",
       "      <th>0</th>\n",
       "      <td>Bengaluru</td>\n",
       "      <td>184</td>\n",
       "      <td>12.988157</td>\n",
       "      <td>77.622600</td>\n",
       "    </tr>\n",
       "    <tr>\n",
       "      <th>1</th>\n",
       "      <td>Delhi</td>\n",
       "      <td>71</td>\n",
       "      <td>28.627393</td>\n",
       "      <td>77.171695</td>\n",
       "    </tr>\n",
       "    <tr>\n",
       "      <th>2</th>\n",
       "      <td>Hyderabad</td>\n",
       "      <td>57</td>\n",
       "      <td>17.360589</td>\n",
       "      <td>78.474061</td>\n",
       "    </tr>\n",
       "    <tr>\n",
       "      <th>3</th>\n",
       "      <td>Mumbai</td>\n",
       "      <td>45</td>\n",
       "      <td>18.973354</td>\n",
       "      <td>72.828105</td>\n",
       "    </tr>\n",
       "    <tr>\n",
       "      <th>4</th>\n",
       "      <td>Pune</td>\n",
       "      <td>39</td>\n",
       "      <td>18.521428</td>\n",
       "      <td>73.854454</td>\n",
       "    </tr>\n",
       "    <tr>\n",
       "      <th>5</th>\n",
       "      <td>Chennai</td>\n",
       "      <td>38</td>\n",
       "      <td>13.083694</td>\n",
       "      <td>80.270186</td>\n",
       "    </tr>\n",
       "    <tr>\n",
       "      <th>6</th>\n",
       "      <td>Gurgaon</td>\n",
       "      <td>32</td>\n",
       "      <td>28.464615</td>\n",
       "      <td>77.029919</td>\n",
       "    </tr>\n",
       "    <tr>\n",
       "      <th>7</th>\n",
       "      <td>Kolkata</td>\n",
       "      <td>21</td>\n",
       "      <td>22.572646</td>\n",
       "      <td>88.363895</td>\n",
       "    </tr>\n",
       "    <tr>\n",
       "      <th>8</th>\n",
       "      <td>Ahmedabad</td>\n",
       "      <td>17</td>\n",
       "      <td>23.021537</td>\n",
       "      <td>72.580057</td>\n",
       "    </tr>\n",
       "    <tr>\n",
       "      <th>9</th>\n",
       "      <td>Noida</td>\n",
       "      <td>11</td>\n",
       "      <td>28.570633</td>\n",
       "      <td>77.327215</td>\n",
       "    </tr>\n",
       "  </tbody>\n",
       "</table>\n",
       "</div>"
      ],
      "text/plain": [
       "        city  company_count   latitude  longitude\n",
       "0  Bengaluru            184  12.988157  77.622600\n",
       "1      Delhi             71  28.627393  77.171695\n",
       "2  Hyderabad             57  17.360589  78.474061\n",
       "3     Mumbai             45  18.973354  72.828105\n",
       "4       Pune             39  18.521428  73.854454\n",
       "5    Chennai             38  13.083694  80.270186\n",
       "6    Gurgaon             32  28.464615  77.029919\n",
       "7    Kolkata             21  22.572646  88.363895\n",
       "8  Ahmedabad             17  23.021537  72.580057\n",
       "9      Noida             11  28.570633  77.327215"
      ]
     },
     "execution_count": 14,
     "metadata": {},
     "output_type": "execute_result"
    }
   ],
   "source": [
    "city_counts.head(10)"
   ]
  },
  {
   "cell_type": "code",
   "execution_count": 15,
   "id": "0c445c78",
   "metadata": {},
   "outputs": [],
   "source": [
    "#refer this:\n",
    "\n",
    "# data1 = [dict(type='scattergeo',lat = snow_sample['lat'],lon = snow_sample['long'],\n",
    "#              marker = dict(size = 9, autocolorscale=False,colorscale = 'Viridis',\n",
    "#             color = snow_sample['elev'], colorbar = dict(title='Elevation (m)')))]\n",
    "\n",
    "\n",
    "# layout1 = dict(title='NOAA Weather Snowfall Station Elevations',\n",
    "#               geo = dict(scope='usa',projection = dict(type ='albers usa'),showland = True,\n",
    "#                     landcolor=\"rgb(250,250,250)\",subunitcolor = \"rgb(217,217,217)\",\n",
    "#                      countrycolor = \"rgb(217,217,217)\",countrywidth =0.5, subunitwidth=0.5))\n",
    "\n",
    "# plotly.offline.iplot({\n",
    "#     \"data\": data1,\n",
    "#     \"layout\": layout1\n",
    "# })"
   ]
  },
  {
   "cell_type": "code",
   "execution_count": 16,
   "id": "bd043cde",
   "metadata": {},
   "outputs": [
    {
     "data": {
      "text/html": [
       "        <script type=\"text/javascript\">\n",
       "        window.PlotlyConfig = {MathJaxConfig: 'local'};\n",
       "        if (window.MathJax && window.MathJax.Hub && window.MathJax.Hub.Config) {window.MathJax.Hub.Config({SVG: {font: \"STIX-Web\"}});}\n",
       "        if (typeof require !== 'undefined') {\n",
       "        require.undef(\"plotly\");\n",
       "        requirejs.config({\n",
       "            paths: {\n",
       "                'plotly': ['https://cdn.plot.ly/plotly-2.12.1.min']\n",
       "            }\n",
       "        });\n",
       "        require(['plotly'], function(Plotly) {\n",
       "            window._Plotly = Plotly;\n",
       "        });\n",
       "        }\n",
       "        </script>\n",
       "        "
      ]
     },
     "metadata": {},
     "output_type": "display_data"
    },
    {
     "data": {
      "text/html": [
       "        <script type=\"text/javascript\">\n",
       "        window.PlotlyConfig = {MathJaxConfig: 'local'};\n",
       "        if (window.MathJax && window.MathJax.Hub && window.MathJax.Hub.Config) {window.MathJax.Hub.Config({SVG: {font: \"STIX-Web\"}});}\n",
       "        if (typeof require !== 'undefined') {\n",
       "        require.undef(\"plotly\");\n",
       "        requirejs.config({\n",
       "            paths: {\n",
       "                'plotly': ['https://cdn.plot.ly/plotly-2.12.1.min']\n",
       "            }\n",
       "        });\n",
       "        require(['plotly'], function(Plotly) {\n",
       "            window._Plotly = Plotly;\n",
       "        });\n",
       "        }\n",
       "        </script>\n",
       "        "
      ]
     },
     "metadata": {},
     "output_type": "display_data"
    }
   ],
   "source": [
    "\n",
    "import plotly.tools as tls\n",
    "import plotly.graph_objs as go\n",
    "import plotly\n",
    "import plotly.figure_factory as ff\n",
    "from plotly.offline import init_notebook_mode, iplot\n",
    "init_notebook_mode(connected=True)\n",
    "plotly.offline.init_notebook_mode(connected=True)"
   ]
  },
  {
   "cell_type": "code",
   "execution_count": 41,
   "id": "80ca0fce",
   "metadata": {},
   "outputs": [],
   "source": [
    "import plotly.express as px\n",
    "scale= 2\n",
    "mapdata = [dict(type='scattergeo', lat = city_counts['latitude'], lon = city_counts['longitude'], \n",
    "               marker = dict(size= (city_counts['company_count'])/scale + 1, autocolorscale=False, colorscale = 'Viridis',\n",
    "                            color = city_counts['company_count'], colorbar = dict(title = 'Healthcare startup distribution')))]\n",
    "\n",
    "layout1 = dict(title = 'Healthcare startup distribution', \n",
    "              geo = dict(scope = 'asia', projection = dict(type = 'natural earth'), showland = True, landcolor = \"rgb(250,250,250)\",subunitcolor = \"rgb(217,217,217)\",\n",
    "                      countrycolor = \"rgb(217,217,217)\", countrywidth =0.5, subunitwidth=0.5))"
   ]
  },
  {
   "cell_type": "code",
   "execution_count": 42,
   "id": "cf35d18e",
   "metadata": {},
   "outputs": [
    {
     "data": {
      "application/vnd.plotly.v1+json": {
       "config": {
        "linkText": "Export to plot.ly",
        "plotlyServerURL": "https://plot.ly",
        "showLink": false
       },
       "data": [
        {
         "lat": [
          12.98815675,
          28.6273928,
          17.360589,
          18.9733536,
          18.521428,
          13.0836939,
          28.4646148,
          22.5726459,
          23.0215374,
          28.5706333,
          28.6138954,
          19.1943294,
          26.9154576,
          20.2602964,
          26.8381,
          28.4646148,
          30.72984395,
          9.9674277,
          22.7203616,
          11.0018115,
          21.1498134,
          22.2973142,
          24.578721,
          null,
          19.0308262,
          10.5270099,
          20.0112475,
          30.7041168,
          15.8572666,
          27.1752554,
          25.3356491,
          44.9391565,
          26.1805978,
          16.21277,
          25.6093239,
          22.8854687,
          29.70265095,
          12.3051828,
          10.804973,
          21.15454115,
          26.4609135,
          25.193859,
          23.1608938,
          19.2396742,
          9.6287383,
          10.78736915,
          30.92589585,
          20.43219565,
          29.3659533,
          11.303388949999999,
          26.26510125,
          9.9261153,
          26.4691,
          25.89133025,
          15.2485413,
          12.8698101,
          13.3519723,
          28.4031478,
          28.6273928,
          18.521428,
          14.4493717,
          11.10684475,
          15.3518378,
          23.2232877,
          23.2584857,
          31.7084496,
          34.0747444,
          21.2120677,
          29.080640950000003,
          23.5350475,
          10.91564885,
          22.6670459,
          21.2380912,
          19.1196976,
          10.91564885,
          32.7185614,
          17.4408924,
          14.4752936,
          11.4126769,
          24.7991162,
          29
         ],
         "lon": [
          77.62260003796,
          77.1716954,
          78.4740613,
          72.82810491917377,
          73.8544541,
          80.270186,
          77.0299194,
          88.3638953,
          72.5800568,
          77.3272147,
          77.2090057,
          72.9701779,
          75.8189817,
          85.8394521,
          80.9346001,
          77.0299194,
          76.78414567016054,
          76.2454436,
          75.8681996,
          76.9628425,
          79.0820556,
          73.1942567,
          73.6862571,
          null,
          73.0198537,
          76.214621,
          73.7902364,
          76.7176885,
          74.5069343,
          78.0098161,
          83.0076292,
          -123.033121,
          91.753943,
          81.03069575082347,
          85.1235252,
          88.3837126,
          79.43263182057746,
          76.6553609,
          78.6870296,
          77.64429617998744,
          80.3217588,
          85.5208617,
          79.9497702,
          73.1366482,
          76.64553257390992,
          76.47421718925105,
          77.08200509063624,
          73.14098929730321,
          74.29842896506344,
          78.1186040211884,
          87.36994367279917,
          78.1140983,
          74.639,
          84.66734935696002,
          76.8323648,
          74.8430082,
          74.7870308,
          77.3105561,
          77.1716954,
          73.8544541,
          79.9873763,
          76.10995510466662,
          75.1379848,
          72.6492267,
          77.401989,
          76.9293782,
          74.8204443,
          81.3732849,
          75.788754109493,
          87.3380425,
          79.80694879844232,
          88.3411458,
          81.6336993,
          72.8464205,
          79.80694879844232,
          74.8580917,
          78.3916304,
          78.8216861,
          76.7030504,
          93.9364419,
          76
         ],
         "marker": {
          "autocolorscale": false,
          "color": [
           184,
           71,
           57,
           45,
           39,
           38,
           32,
           21,
           17,
           11,
           8,
           7,
           7,
           7,
           7,
           6,
           6,
           4,
           4,
           4,
           4,
           4,
           4,
           3,
           3,
           2,
           2,
           2,
           2,
           2,
           2,
           2,
           2,
           1,
           1,
           1,
           1,
           1,
           1,
           1,
           1,
           1,
           1,
           1,
           1,
           1,
           1,
           1,
           1,
           1,
           1,
           1,
           1,
           1,
           1,
           1,
           1,
           1,
           1,
           1,
           1,
           1,
           1,
           1,
           1,
           1,
           1,
           1,
           1,
           1,
           1,
           1,
           1,
           1,
           1,
           1,
           1,
           1,
           1,
           1,
           1
          ],
          "colorbar": {
           "title": {
            "text": "Healthcare startup distribution"
           }
          },
          "colorscale": [
           [
            0,
            "#440154"
           ],
           [
            0.1111111111111111,
            "#482878"
           ],
           [
            0.2222222222222222,
            "#3e4989"
           ],
           [
            0.3333333333333333,
            "#31688e"
           ],
           [
            0.4444444444444444,
            "#26828e"
           ],
           [
            0.5555555555555556,
            "#1f9e89"
           ],
           [
            0.6666666666666666,
            "#35b779"
           ],
           [
            0.7777777777777778,
            "#6ece58"
           ],
           [
            0.8888888888888888,
            "#b5de2b"
           ],
           [
            1,
            "#fde725"
           ]
          ],
          "size": [
           93,
           36.5,
           29.5,
           23.5,
           20.5,
           20,
           17,
           11.5,
           9.5,
           6.5,
           5,
           4.5,
           4.5,
           4.5,
           4.5,
           4,
           4,
           3,
           3,
           3,
           3,
           3,
           3,
           2.5,
           2.5,
           2,
           2,
           2,
           2,
           2,
           2,
           2,
           2,
           1.5,
           1.5,
           1.5,
           1.5,
           1.5,
           1.5,
           1.5,
           1.5,
           1.5,
           1.5,
           1.5,
           1.5,
           1.5,
           1.5,
           1.5,
           1.5,
           1.5,
           1.5,
           1.5,
           1.5,
           1.5,
           1.5,
           1.5,
           1.5,
           1.5,
           1.5,
           1.5,
           1.5,
           1.5,
           1.5,
           1.5,
           1.5,
           1.5,
           1.5,
           1.5,
           1.5,
           1.5,
           1.5,
           1.5,
           1.5,
           1.5,
           1.5,
           1.5,
           1.5,
           1.5,
           1.5,
           1.5,
           1.5
          ]
         },
         "type": "scattergeo"
        }
       ],
       "layout": {
        "geo": {
         "countrycolor": "rgb(217,217,217)",
         "countrywidth": 0.5,
         "landcolor": "rgb(250,250,250)",
         "projection": {
          "type": "natural earth"
         },
         "scope": "asia",
         "showland": true,
         "subunitcolor": "rgb(217,217,217)",
         "subunitwidth": 0.5
        },
        "template": {
         "data": {
          "bar": [
           {
            "error_x": {
             "color": "#2a3f5f"
            },
            "error_y": {
             "color": "#2a3f5f"
            },
            "marker": {
             "line": {
              "color": "#E5ECF6",
              "width": 0.5
             },
             "pattern": {
              "fillmode": "overlay",
              "size": 10,
              "solidity": 0.2
             }
            },
            "type": "bar"
           }
          ],
          "barpolar": [
           {
            "marker": {
             "line": {
              "color": "#E5ECF6",
              "width": 0.5
             },
             "pattern": {
              "fillmode": "overlay",
              "size": 10,
              "solidity": 0.2
             }
            },
            "type": "barpolar"
           }
          ],
          "carpet": [
           {
            "aaxis": {
             "endlinecolor": "#2a3f5f",
             "gridcolor": "white",
             "linecolor": "white",
             "minorgridcolor": "white",
             "startlinecolor": "#2a3f5f"
            },
            "baxis": {
             "endlinecolor": "#2a3f5f",
             "gridcolor": "white",
             "linecolor": "white",
             "minorgridcolor": "white",
             "startlinecolor": "#2a3f5f"
            },
            "type": "carpet"
           }
          ],
          "choropleth": [
           {
            "colorbar": {
             "outlinewidth": 0,
             "ticks": ""
            },
            "type": "choropleth"
           }
          ],
          "contour": [
           {
            "colorbar": {
             "outlinewidth": 0,
             "ticks": ""
            },
            "colorscale": [
             [
              0,
              "#0d0887"
             ],
             [
              0.1111111111111111,
              "#46039f"
             ],
             [
              0.2222222222222222,
              "#7201a8"
             ],
             [
              0.3333333333333333,
              "#9c179e"
             ],
             [
              0.4444444444444444,
              "#bd3786"
             ],
             [
              0.5555555555555556,
              "#d8576b"
             ],
             [
              0.6666666666666666,
              "#ed7953"
             ],
             [
              0.7777777777777778,
              "#fb9f3a"
             ],
             [
              0.8888888888888888,
              "#fdca26"
             ],
             [
              1,
              "#f0f921"
             ]
            ],
            "type": "contour"
           }
          ],
          "contourcarpet": [
           {
            "colorbar": {
             "outlinewidth": 0,
             "ticks": ""
            },
            "type": "contourcarpet"
           }
          ],
          "heatmap": [
           {
            "colorbar": {
             "outlinewidth": 0,
             "ticks": ""
            },
            "colorscale": [
             [
              0,
              "#0d0887"
             ],
             [
              0.1111111111111111,
              "#46039f"
             ],
             [
              0.2222222222222222,
              "#7201a8"
             ],
             [
              0.3333333333333333,
              "#9c179e"
             ],
             [
              0.4444444444444444,
              "#bd3786"
             ],
             [
              0.5555555555555556,
              "#d8576b"
             ],
             [
              0.6666666666666666,
              "#ed7953"
             ],
             [
              0.7777777777777778,
              "#fb9f3a"
             ],
             [
              0.8888888888888888,
              "#fdca26"
             ],
             [
              1,
              "#f0f921"
             ]
            ],
            "type": "heatmap"
           }
          ],
          "heatmapgl": [
           {
            "colorbar": {
             "outlinewidth": 0,
             "ticks": ""
            },
            "colorscale": [
             [
              0,
              "#0d0887"
             ],
             [
              0.1111111111111111,
              "#46039f"
             ],
             [
              0.2222222222222222,
              "#7201a8"
             ],
             [
              0.3333333333333333,
              "#9c179e"
             ],
             [
              0.4444444444444444,
              "#bd3786"
             ],
             [
              0.5555555555555556,
              "#d8576b"
             ],
             [
              0.6666666666666666,
              "#ed7953"
             ],
             [
              0.7777777777777778,
              "#fb9f3a"
             ],
             [
              0.8888888888888888,
              "#fdca26"
             ],
             [
              1,
              "#f0f921"
             ]
            ],
            "type": "heatmapgl"
           }
          ],
          "histogram": [
           {
            "marker": {
             "pattern": {
              "fillmode": "overlay",
              "size": 10,
              "solidity": 0.2
             }
            },
            "type": "histogram"
           }
          ],
          "histogram2d": [
           {
            "colorbar": {
             "outlinewidth": 0,
             "ticks": ""
            },
            "colorscale": [
             [
              0,
              "#0d0887"
             ],
             [
              0.1111111111111111,
              "#46039f"
             ],
             [
              0.2222222222222222,
              "#7201a8"
             ],
             [
              0.3333333333333333,
              "#9c179e"
             ],
             [
              0.4444444444444444,
              "#bd3786"
             ],
             [
              0.5555555555555556,
              "#d8576b"
             ],
             [
              0.6666666666666666,
              "#ed7953"
             ],
             [
              0.7777777777777778,
              "#fb9f3a"
             ],
             [
              0.8888888888888888,
              "#fdca26"
             ],
             [
              1,
              "#f0f921"
             ]
            ],
            "type": "histogram2d"
           }
          ],
          "histogram2dcontour": [
           {
            "colorbar": {
             "outlinewidth": 0,
             "ticks": ""
            },
            "colorscale": [
             [
              0,
              "#0d0887"
             ],
             [
              0.1111111111111111,
              "#46039f"
             ],
             [
              0.2222222222222222,
              "#7201a8"
             ],
             [
              0.3333333333333333,
              "#9c179e"
             ],
             [
              0.4444444444444444,
              "#bd3786"
             ],
             [
              0.5555555555555556,
              "#d8576b"
             ],
             [
              0.6666666666666666,
              "#ed7953"
             ],
             [
              0.7777777777777778,
              "#fb9f3a"
             ],
             [
              0.8888888888888888,
              "#fdca26"
             ],
             [
              1,
              "#f0f921"
             ]
            ],
            "type": "histogram2dcontour"
           }
          ],
          "mesh3d": [
           {
            "colorbar": {
             "outlinewidth": 0,
             "ticks": ""
            },
            "type": "mesh3d"
           }
          ],
          "parcoords": [
           {
            "line": {
             "colorbar": {
              "outlinewidth": 0,
              "ticks": ""
             }
            },
            "type": "parcoords"
           }
          ],
          "pie": [
           {
            "automargin": true,
            "type": "pie"
           }
          ],
          "scatter": [
           {
            "fillpattern": {
             "fillmode": "overlay",
             "size": 10,
             "solidity": 0.2
            },
            "type": "scatter"
           }
          ],
          "scatter3d": [
           {
            "line": {
             "colorbar": {
              "outlinewidth": 0,
              "ticks": ""
             }
            },
            "marker": {
             "colorbar": {
              "outlinewidth": 0,
              "ticks": ""
             }
            },
            "type": "scatter3d"
           }
          ],
          "scattercarpet": [
           {
            "marker": {
             "colorbar": {
              "outlinewidth": 0,
              "ticks": ""
             }
            },
            "type": "scattercarpet"
           }
          ],
          "scattergeo": [
           {
            "marker": {
             "colorbar": {
              "outlinewidth": 0,
              "ticks": ""
             }
            },
            "type": "scattergeo"
           }
          ],
          "scattergl": [
           {
            "marker": {
             "colorbar": {
              "outlinewidth": 0,
              "ticks": ""
             }
            },
            "type": "scattergl"
           }
          ],
          "scattermapbox": [
           {
            "marker": {
             "colorbar": {
              "outlinewidth": 0,
              "ticks": ""
             }
            },
            "type": "scattermapbox"
           }
          ],
          "scatterpolar": [
           {
            "marker": {
             "colorbar": {
              "outlinewidth": 0,
              "ticks": ""
             }
            },
            "type": "scatterpolar"
           }
          ],
          "scatterpolargl": [
           {
            "marker": {
             "colorbar": {
              "outlinewidth": 0,
              "ticks": ""
             }
            },
            "type": "scatterpolargl"
           }
          ],
          "scatterternary": [
           {
            "marker": {
             "colorbar": {
              "outlinewidth": 0,
              "ticks": ""
             }
            },
            "type": "scatterternary"
           }
          ],
          "surface": [
           {
            "colorbar": {
             "outlinewidth": 0,
             "ticks": ""
            },
            "colorscale": [
             [
              0,
              "#0d0887"
             ],
             [
              0.1111111111111111,
              "#46039f"
             ],
             [
              0.2222222222222222,
              "#7201a8"
             ],
             [
              0.3333333333333333,
              "#9c179e"
             ],
             [
              0.4444444444444444,
              "#bd3786"
             ],
             [
              0.5555555555555556,
              "#d8576b"
             ],
             [
              0.6666666666666666,
              "#ed7953"
             ],
             [
              0.7777777777777778,
              "#fb9f3a"
             ],
             [
              0.8888888888888888,
              "#fdca26"
             ],
             [
              1,
              "#f0f921"
             ]
            ],
            "type": "surface"
           }
          ],
          "table": [
           {
            "cells": {
             "fill": {
              "color": "#EBF0F8"
             },
             "line": {
              "color": "white"
             }
            },
            "header": {
             "fill": {
              "color": "#C8D4E3"
             },
             "line": {
              "color": "white"
             }
            },
            "type": "table"
           }
          ]
         },
         "layout": {
          "annotationdefaults": {
           "arrowcolor": "#2a3f5f",
           "arrowhead": 0,
           "arrowwidth": 1
          },
          "autotypenumbers": "strict",
          "coloraxis": {
           "colorbar": {
            "outlinewidth": 0,
            "ticks": ""
           }
          },
          "colorscale": {
           "diverging": [
            [
             0,
             "#8e0152"
            ],
            [
             0.1,
             "#c51b7d"
            ],
            [
             0.2,
             "#de77ae"
            ],
            [
             0.3,
             "#f1b6da"
            ],
            [
             0.4,
             "#fde0ef"
            ],
            [
             0.5,
             "#f7f7f7"
            ],
            [
             0.6,
             "#e6f5d0"
            ],
            [
             0.7,
             "#b8e186"
            ],
            [
             0.8,
             "#7fbc41"
            ],
            [
             0.9,
             "#4d9221"
            ],
            [
             1,
             "#276419"
            ]
           ],
           "sequential": [
            [
             0,
             "#0d0887"
            ],
            [
             0.1111111111111111,
             "#46039f"
            ],
            [
             0.2222222222222222,
             "#7201a8"
            ],
            [
             0.3333333333333333,
             "#9c179e"
            ],
            [
             0.4444444444444444,
             "#bd3786"
            ],
            [
             0.5555555555555556,
             "#d8576b"
            ],
            [
             0.6666666666666666,
             "#ed7953"
            ],
            [
             0.7777777777777778,
             "#fb9f3a"
            ],
            [
             0.8888888888888888,
             "#fdca26"
            ],
            [
             1,
             "#f0f921"
            ]
           ],
           "sequentialminus": [
            [
             0,
             "#0d0887"
            ],
            [
             0.1111111111111111,
             "#46039f"
            ],
            [
             0.2222222222222222,
             "#7201a8"
            ],
            [
             0.3333333333333333,
             "#9c179e"
            ],
            [
             0.4444444444444444,
             "#bd3786"
            ],
            [
             0.5555555555555556,
             "#d8576b"
            ],
            [
             0.6666666666666666,
             "#ed7953"
            ],
            [
             0.7777777777777778,
             "#fb9f3a"
            ],
            [
             0.8888888888888888,
             "#fdca26"
            ],
            [
             1,
             "#f0f921"
            ]
           ]
          },
          "colorway": [
           "#636efa",
           "#EF553B",
           "#00cc96",
           "#ab63fa",
           "#FFA15A",
           "#19d3f3",
           "#FF6692",
           "#B6E880",
           "#FF97FF",
           "#FECB52"
          ],
          "font": {
           "color": "#2a3f5f"
          },
          "geo": {
           "bgcolor": "white",
           "lakecolor": "white",
           "landcolor": "#E5ECF6",
           "showlakes": true,
           "showland": true,
           "subunitcolor": "white"
          },
          "hoverlabel": {
           "align": "left"
          },
          "hovermode": "closest",
          "mapbox": {
           "style": "light"
          },
          "paper_bgcolor": "white",
          "plot_bgcolor": "#E5ECF6",
          "polar": {
           "angularaxis": {
            "gridcolor": "white",
            "linecolor": "white",
            "ticks": ""
           },
           "bgcolor": "#E5ECF6",
           "radialaxis": {
            "gridcolor": "white",
            "linecolor": "white",
            "ticks": ""
           }
          },
          "scene": {
           "xaxis": {
            "backgroundcolor": "#E5ECF6",
            "gridcolor": "white",
            "gridwidth": 2,
            "linecolor": "white",
            "showbackground": true,
            "ticks": "",
            "zerolinecolor": "white"
           },
           "yaxis": {
            "backgroundcolor": "#E5ECF6",
            "gridcolor": "white",
            "gridwidth": 2,
            "linecolor": "white",
            "showbackground": true,
            "ticks": "",
            "zerolinecolor": "white"
           },
           "zaxis": {
            "backgroundcolor": "#E5ECF6",
            "gridcolor": "white",
            "gridwidth": 2,
            "linecolor": "white",
            "showbackground": true,
            "ticks": "",
            "zerolinecolor": "white"
           }
          },
          "shapedefaults": {
           "line": {
            "color": "#2a3f5f"
           }
          },
          "ternary": {
           "aaxis": {
            "gridcolor": "white",
            "linecolor": "white",
            "ticks": ""
           },
           "baxis": {
            "gridcolor": "white",
            "linecolor": "white",
            "ticks": ""
           },
           "bgcolor": "#E5ECF6",
           "caxis": {
            "gridcolor": "white",
            "linecolor": "white",
            "ticks": ""
           }
          },
          "title": {
           "x": 0.05
          },
          "xaxis": {
           "automargin": true,
           "gridcolor": "white",
           "linecolor": "white",
           "ticks": "",
           "title": {
            "standoff": 15
           },
           "zerolinecolor": "white",
           "zerolinewidth": 2
          },
          "yaxis": {
           "automargin": true,
           "gridcolor": "white",
           "linecolor": "white",
           "ticks": "",
           "title": {
            "standoff": 15
           },
           "zerolinecolor": "white",
           "zerolinewidth": 2
          }
         }
        },
        "title": {
         "text": "Healthcare startup distribution"
        }
       }
      },
      "text/html": [
       "<div>                            <div id=\"beef0ff1-4694-43c3-bc9e-43272115cae0\" class=\"plotly-graph-div\" style=\"height:525px; width:100%;\"></div>            <script type=\"text/javascript\">                require([\"plotly\"], function(Plotly) {                    window.PLOTLYENV=window.PLOTLYENV || {};                                    if (document.getElementById(\"beef0ff1-4694-43c3-bc9e-43272115cae0\")) {                    Plotly.newPlot(                        \"beef0ff1-4694-43c3-bc9e-43272115cae0\",                        [{\"lat\":[12.98815675,28.6273928,17.360589,18.9733536,18.521428,13.0836939,28.4646148,22.5726459,23.0215374,28.5706333,28.6138954,19.1943294,26.9154576,20.2602964,26.8381,28.4646148,30.72984395,9.9674277,22.7203616,11.0018115,21.1498134,22.2973142,24.578721,null,19.0308262,10.5270099,20.0112475,30.7041168,15.8572666,27.1752554,25.3356491,44.9391565,26.1805978,16.21277,25.6093239,22.8854687,29.70265095,12.3051828,10.804973,21.15454115,26.4609135,25.193859,23.1608938,19.2396742,9.6287383,10.78736915,30.92589585,20.43219565,29.3659533,11.303388949999999,26.26510125,9.9261153,26.4691,25.89133025,15.2485413,12.8698101,13.3519723,28.4031478,28.6273928,18.521428,14.4493717,11.10684475,15.3518378,23.2232877,23.2584857,31.7084496,34.0747444,21.2120677,29.080640950000003,23.5350475,10.91564885,22.6670459,21.2380912,19.1196976,10.91564885,32.7185614,17.4408924,14.4752936,11.4126769,24.7991162,29.0],\"lon\":[77.62260003796,77.1716954,78.4740613,72.82810491917377,73.8544541,80.270186,77.0299194,88.3638953,72.5800568,77.3272147,77.2090057,72.9701779,75.8189817,85.8394521,80.9346001,77.0299194,76.78414567016054,76.2454436,75.8681996,76.9628425,79.0820556,73.1942567,73.6862571,null,73.0198537,76.214621,73.7902364,76.7176885,74.5069343,78.0098161,83.0076292,-123.033121,91.753943,81.03069575082347,85.1235252,88.3837126,79.43263182057746,76.6553609,78.6870296,77.64429617998744,80.3217588,85.5208617,79.9497702,73.1366482,76.64553257390992,76.47421718925105,77.08200509063624,73.14098929730321,74.29842896506344,78.1186040211884,87.36994367279917,78.1140983,74.639,84.66734935696002,76.8323648,74.8430082,74.7870308,77.3105561,77.1716954,73.8544541,79.9873763,76.10995510466662,75.1379848,72.6492267,77.401989,76.9293782,74.8204443,81.3732849,75.788754109493,87.3380425,79.80694879844232,88.3411458,81.6336993,72.8464205,79.80694879844232,74.8580917,78.3916304,78.8216861,76.7030504,93.9364419,76.0],\"marker\":{\"autocolorscale\":false,\"color\":[184,71,57,45,39,38,32,21,17,11,8,7,7,7,7,6,6,4,4,4,4,4,4,3,3,2,2,2,2,2,2,2,2,1,1,1,1,1,1,1,1,1,1,1,1,1,1,1,1,1,1,1,1,1,1,1,1,1,1,1,1,1,1,1,1,1,1,1,1,1,1,1,1,1,1,1,1,1,1,1,1],\"colorbar\":{\"title\":{\"text\":\"Healthcare startup distribution\"}},\"colorscale\":[[0.0,\"#440154\"],[0.1111111111111111,\"#482878\"],[0.2222222222222222,\"#3e4989\"],[0.3333333333333333,\"#31688e\"],[0.4444444444444444,\"#26828e\"],[0.5555555555555556,\"#1f9e89\"],[0.6666666666666666,\"#35b779\"],[0.7777777777777778,\"#6ece58\"],[0.8888888888888888,\"#b5de2b\"],[1.0,\"#fde725\"]],\"size\":[93.0,36.5,29.5,23.5,20.5,20.0,17.0,11.5,9.5,6.5,5.0,4.5,4.5,4.5,4.5,4.0,4.0,3.0,3.0,3.0,3.0,3.0,3.0,2.5,2.5,2.0,2.0,2.0,2.0,2.0,2.0,2.0,2.0,1.5,1.5,1.5,1.5,1.5,1.5,1.5,1.5,1.5,1.5,1.5,1.5,1.5,1.5,1.5,1.5,1.5,1.5,1.5,1.5,1.5,1.5,1.5,1.5,1.5,1.5,1.5,1.5,1.5,1.5,1.5,1.5,1.5,1.5,1.5,1.5,1.5,1.5,1.5,1.5,1.5,1.5,1.5,1.5,1.5,1.5,1.5,1.5]},\"type\":\"scattergeo\"}],                        {\"geo\":{\"countrycolor\":\"rgb(217,217,217)\",\"countrywidth\":0.5,\"landcolor\":\"rgb(250,250,250)\",\"projection\":{\"type\":\"natural earth\"},\"scope\":\"asia\",\"showland\":true,\"subunitcolor\":\"rgb(217,217,217)\",\"subunitwidth\":0.5},\"template\":{\"data\":{\"barpolar\":[{\"marker\":{\"line\":{\"color\":\"#E5ECF6\",\"width\":0.5},\"pattern\":{\"fillmode\":\"overlay\",\"size\":10,\"solidity\":0.2}},\"type\":\"barpolar\"}],\"bar\":[{\"error_x\":{\"color\":\"#2a3f5f\"},\"error_y\":{\"color\":\"#2a3f5f\"},\"marker\":{\"line\":{\"color\":\"#E5ECF6\",\"width\":0.5},\"pattern\":{\"fillmode\":\"overlay\",\"size\":10,\"solidity\":0.2}},\"type\":\"bar\"}],\"carpet\":[{\"aaxis\":{\"endlinecolor\":\"#2a3f5f\",\"gridcolor\":\"white\",\"linecolor\":\"white\",\"minorgridcolor\":\"white\",\"startlinecolor\":\"#2a3f5f\"},\"baxis\":{\"endlinecolor\":\"#2a3f5f\",\"gridcolor\":\"white\",\"linecolor\":\"white\",\"minorgridcolor\":\"white\",\"startlinecolor\":\"#2a3f5f\"},\"type\":\"carpet\"}],\"choropleth\":[{\"colorbar\":{\"outlinewidth\":0,\"ticks\":\"\"},\"type\":\"choropleth\"}],\"contourcarpet\":[{\"colorbar\":{\"outlinewidth\":0,\"ticks\":\"\"},\"type\":\"contourcarpet\"}],\"contour\":[{\"colorbar\":{\"outlinewidth\":0,\"ticks\":\"\"},\"colorscale\":[[0.0,\"#0d0887\"],[0.1111111111111111,\"#46039f\"],[0.2222222222222222,\"#7201a8\"],[0.3333333333333333,\"#9c179e\"],[0.4444444444444444,\"#bd3786\"],[0.5555555555555556,\"#d8576b\"],[0.6666666666666666,\"#ed7953\"],[0.7777777777777778,\"#fb9f3a\"],[0.8888888888888888,\"#fdca26\"],[1.0,\"#f0f921\"]],\"type\":\"contour\"}],\"heatmapgl\":[{\"colorbar\":{\"outlinewidth\":0,\"ticks\":\"\"},\"colorscale\":[[0.0,\"#0d0887\"],[0.1111111111111111,\"#46039f\"],[0.2222222222222222,\"#7201a8\"],[0.3333333333333333,\"#9c179e\"],[0.4444444444444444,\"#bd3786\"],[0.5555555555555556,\"#d8576b\"],[0.6666666666666666,\"#ed7953\"],[0.7777777777777778,\"#fb9f3a\"],[0.8888888888888888,\"#fdca26\"],[1.0,\"#f0f921\"]],\"type\":\"heatmapgl\"}],\"heatmap\":[{\"colorbar\":{\"outlinewidth\":0,\"ticks\":\"\"},\"colorscale\":[[0.0,\"#0d0887\"],[0.1111111111111111,\"#46039f\"],[0.2222222222222222,\"#7201a8\"],[0.3333333333333333,\"#9c179e\"],[0.4444444444444444,\"#bd3786\"],[0.5555555555555556,\"#d8576b\"],[0.6666666666666666,\"#ed7953\"],[0.7777777777777778,\"#fb9f3a\"],[0.8888888888888888,\"#fdca26\"],[1.0,\"#f0f921\"]],\"type\":\"heatmap\"}],\"histogram2dcontour\":[{\"colorbar\":{\"outlinewidth\":0,\"ticks\":\"\"},\"colorscale\":[[0.0,\"#0d0887\"],[0.1111111111111111,\"#46039f\"],[0.2222222222222222,\"#7201a8\"],[0.3333333333333333,\"#9c179e\"],[0.4444444444444444,\"#bd3786\"],[0.5555555555555556,\"#d8576b\"],[0.6666666666666666,\"#ed7953\"],[0.7777777777777778,\"#fb9f3a\"],[0.8888888888888888,\"#fdca26\"],[1.0,\"#f0f921\"]],\"type\":\"histogram2dcontour\"}],\"histogram2d\":[{\"colorbar\":{\"outlinewidth\":0,\"ticks\":\"\"},\"colorscale\":[[0.0,\"#0d0887\"],[0.1111111111111111,\"#46039f\"],[0.2222222222222222,\"#7201a8\"],[0.3333333333333333,\"#9c179e\"],[0.4444444444444444,\"#bd3786\"],[0.5555555555555556,\"#d8576b\"],[0.6666666666666666,\"#ed7953\"],[0.7777777777777778,\"#fb9f3a\"],[0.8888888888888888,\"#fdca26\"],[1.0,\"#f0f921\"]],\"type\":\"histogram2d\"}],\"histogram\":[{\"marker\":{\"pattern\":{\"fillmode\":\"overlay\",\"size\":10,\"solidity\":0.2}},\"type\":\"histogram\"}],\"mesh3d\":[{\"colorbar\":{\"outlinewidth\":0,\"ticks\":\"\"},\"type\":\"mesh3d\"}],\"parcoords\":[{\"line\":{\"colorbar\":{\"outlinewidth\":0,\"ticks\":\"\"}},\"type\":\"parcoords\"}],\"pie\":[{\"automargin\":true,\"type\":\"pie\"}],\"scatter3d\":[{\"line\":{\"colorbar\":{\"outlinewidth\":0,\"ticks\":\"\"}},\"marker\":{\"colorbar\":{\"outlinewidth\":0,\"ticks\":\"\"}},\"type\":\"scatter3d\"}],\"scattercarpet\":[{\"marker\":{\"colorbar\":{\"outlinewidth\":0,\"ticks\":\"\"}},\"type\":\"scattercarpet\"}],\"scattergeo\":[{\"marker\":{\"colorbar\":{\"outlinewidth\":0,\"ticks\":\"\"}},\"type\":\"scattergeo\"}],\"scattergl\":[{\"marker\":{\"colorbar\":{\"outlinewidth\":0,\"ticks\":\"\"}},\"type\":\"scattergl\"}],\"scattermapbox\":[{\"marker\":{\"colorbar\":{\"outlinewidth\":0,\"ticks\":\"\"}},\"type\":\"scattermapbox\"}],\"scatterpolargl\":[{\"marker\":{\"colorbar\":{\"outlinewidth\":0,\"ticks\":\"\"}},\"type\":\"scatterpolargl\"}],\"scatterpolar\":[{\"marker\":{\"colorbar\":{\"outlinewidth\":0,\"ticks\":\"\"}},\"type\":\"scatterpolar\"}],\"scatter\":[{\"fillpattern\":{\"fillmode\":\"overlay\",\"size\":10,\"solidity\":0.2},\"type\":\"scatter\"}],\"scatterternary\":[{\"marker\":{\"colorbar\":{\"outlinewidth\":0,\"ticks\":\"\"}},\"type\":\"scatterternary\"}],\"surface\":[{\"colorbar\":{\"outlinewidth\":0,\"ticks\":\"\"},\"colorscale\":[[0.0,\"#0d0887\"],[0.1111111111111111,\"#46039f\"],[0.2222222222222222,\"#7201a8\"],[0.3333333333333333,\"#9c179e\"],[0.4444444444444444,\"#bd3786\"],[0.5555555555555556,\"#d8576b\"],[0.6666666666666666,\"#ed7953\"],[0.7777777777777778,\"#fb9f3a\"],[0.8888888888888888,\"#fdca26\"],[1.0,\"#f0f921\"]],\"type\":\"surface\"}],\"table\":[{\"cells\":{\"fill\":{\"color\":\"#EBF0F8\"},\"line\":{\"color\":\"white\"}},\"header\":{\"fill\":{\"color\":\"#C8D4E3\"},\"line\":{\"color\":\"white\"}},\"type\":\"table\"}]},\"layout\":{\"annotationdefaults\":{\"arrowcolor\":\"#2a3f5f\",\"arrowhead\":0,\"arrowwidth\":1},\"autotypenumbers\":\"strict\",\"coloraxis\":{\"colorbar\":{\"outlinewidth\":0,\"ticks\":\"\"}},\"colorscale\":{\"diverging\":[[0,\"#8e0152\"],[0.1,\"#c51b7d\"],[0.2,\"#de77ae\"],[0.3,\"#f1b6da\"],[0.4,\"#fde0ef\"],[0.5,\"#f7f7f7\"],[0.6,\"#e6f5d0\"],[0.7,\"#b8e186\"],[0.8,\"#7fbc41\"],[0.9,\"#4d9221\"],[1,\"#276419\"]],\"sequential\":[[0.0,\"#0d0887\"],[0.1111111111111111,\"#46039f\"],[0.2222222222222222,\"#7201a8\"],[0.3333333333333333,\"#9c179e\"],[0.4444444444444444,\"#bd3786\"],[0.5555555555555556,\"#d8576b\"],[0.6666666666666666,\"#ed7953\"],[0.7777777777777778,\"#fb9f3a\"],[0.8888888888888888,\"#fdca26\"],[1.0,\"#f0f921\"]],\"sequentialminus\":[[0.0,\"#0d0887\"],[0.1111111111111111,\"#46039f\"],[0.2222222222222222,\"#7201a8\"],[0.3333333333333333,\"#9c179e\"],[0.4444444444444444,\"#bd3786\"],[0.5555555555555556,\"#d8576b\"],[0.6666666666666666,\"#ed7953\"],[0.7777777777777778,\"#fb9f3a\"],[0.8888888888888888,\"#fdca26\"],[1.0,\"#f0f921\"]]},\"colorway\":[\"#636efa\",\"#EF553B\",\"#00cc96\",\"#ab63fa\",\"#FFA15A\",\"#19d3f3\",\"#FF6692\",\"#B6E880\",\"#FF97FF\",\"#FECB52\"],\"font\":{\"color\":\"#2a3f5f\"},\"geo\":{\"bgcolor\":\"white\",\"lakecolor\":\"white\",\"landcolor\":\"#E5ECF6\",\"showlakes\":true,\"showland\":true,\"subunitcolor\":\"white\"},\"hoverlabel\":{\"align\":\"left\"},\"hovermode\":\"closest\",\"mapbox\":{\"style\":\"light\"},\"paper_bgcolor\":\"white\",\"plot_bgcolor\":\"#E5ECF6\",\"polar\":{\"angularaxis\":{\"gridcolor\":\"white\",\"linecolor\":\"white\",\"ticks\":\"\"},\"bgcolor\":\"#E5ECF6\",\"radialaxis\":{\"gridcolor\":\"white\",\"linecolor\":\"white\",\"ticks\":\"\"}},\"scene\":{\"xaxis\":{\"backgroundcolor\":\"#E5ECF6\",\"gridcolor\":\"white\",\"gridwidth\":2,\"linecolor\":\"white\",\"showbackground\":true,\"ticks\":\"\",\"zerolinecolor\":\"white\"},\"yaxis\":{\"backgroundcolor\":\"#E5ECF6\",\"gridcolor\":\"white\",\"gridwidth\":2,\"linecolor\":\"white\",\"showbackground\":true,\"ticks\":\"\",\"zerolinecolor\":\"white\"},\"zaxis\":{\"backgroundcolor\":\"#E5ECF6\",\"gridcolor\":\"white\",\"gridwidth\":2,\"linecolor\":\"white\",\"showbackground\":true,\"ticks\":\"\",\"zerolinecolor\":\"white\"}},\"shapedefaults\":{\"line\":{\"color\":\"#2a3f5f\"}},\"ternary\":{\"aaxis\":{\"gridcolor\":\"white\",\"linecolor\":\"white\",\"ticks\":\"\"},\"baxis\":{\"gridcolor\":\"white\",\"linecolor\":\"white\",\"ticks\":\"\"},\"bgcolor\":\"#E5ECF6\",\"caxis\":{\"gridcolor\":\"white\",\"linecolor\":\"white\",\"ticks\":\"\"}},\"title\":{\"x\":0.05},\"xaxis\":{\"automargin\":true,\"gridcolor\":\"white\",\"linecolor\":\"white\",\"ticks\":\"\",\"title\":{\"standoff\":15},\"zerolinecolor\":\"white\",\"zerolinewidth\":2},\"yaxis\":{\"automargin\":true,\"gridcolor\":\"white\",\"linecolor\":\"white\",\"ticks\":\"\",\"title\":{\"standoff\":15},\"zerolinecolor\":\"white\",\"zerolinewidth\":2}}},\"title\":{\"text\":\"Healthcare startup distribution\"}},                        {\"responsive\": true}                    ).then(function(){\n",
       "                            \n",
       "var gd = document.getElementById('beef0ff1-4694-43c3-bc9e-43272115cae0');\n",
       "var x = new MutationObserver(function (mutations, observer) {{\n",
       "        var display = window.getComputedStyle(gd).display;\n",
       "        if (!display || display === 'none') {{\n",
       "            console.log([gd, 'removed!']);\n",
       "            Plotly.purge(gd);\n",
       "            observer.disconnect();\n",
       "        }}\n",
       "}});\n",
       "\n",
       "// Listen for the removal of the full notebook cells\n",
       "var notebookContainer = gd.closest('#notebook-container');\n",
       "if (notebookContainer) {{\n",
       "    x.observe(notebookContainer, {childList: true});\n",
       "}}\n",
       "\n",
       "// Listen for the clearing of the current output cell\n",
       "var outputEl = gd.closest('.output');\n",
       "if (outputEl) {{\n",
       "    x.observe(outputEl, {childList: true});\n",
       "}}\n",
       "\n",
       "                        })                };                });            </script>        </div>"
      ]
     },
     "metadata": {},
     "output_type": "display_data"
    }
   ],
   "source": [
    "plotly.offline.iplot({\n",
    "    \"data\": mapdata,\n",
    "    \"layout\": layout1\n",
    "})"
   ]
  }
 ],
 "metadata": {
  "kernelspec": {
   "display_name": "Python 3 (ipykernel)",
   "language": "python",
   "name": "python3"
  },
  "language_info": {
   "codemirror_mode": {
    "name": "ipython",
    "version": 3
   },
   "file_extension": ".py",
   "mimetype": "text/x-python",
   "name": "python",
   "nbconvert_exporter": "python",
   "pygments_lexer": "ipython3",
   "version": "3.11.5"
  }
 },
 "nbformat": 4,
 "nbformat_minor": 5
}
